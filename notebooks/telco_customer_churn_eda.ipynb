{
 "cells": [
  {
   "metadata": {},
   "cell_type": "markdown",
   "source": [
    "# Telco Customer Churn Dataset - Exploratory Data Analysis\n",
    "\n",
    "Explore the dataset of Telco Customer Churn in order to uncover patterns in the data and correlation between features/label."
   ],
   "id": "6160f7e33cbb97f"
  },
  {
   "metadata": {},
   "cell_type": "markdown",
   "source": "# Setup Notebook",
   "id": "b216d6ba567ebc1a"
  },
  {
   "metadata": {},
   "cell_type": "markdown",
   "source": "## Import",
   "id": "1f478251a4aad09c"
  },
  {
   "metadata": {
    "ExecuteTime": {
     "end_time": "2024-05-25T21:42:47.845575Z",
     "start_time": "2024-05-25T21:42:47.808612Z"
    }
   },
   "cell_type": "code",
   "source": [
    "# Import Standard Libraries\n",
    "import pandas as pd\n",
    "\n",
    "import os\n",
    "from pathlib import Path\n",
    "\n",
    "import matplotlib.pyplot as plt\n",
    "import seaborn as sns\n",
    "\n",
    "from colorama import Style, Fore\n",
    "\n",
    "# Import Package Modules\n",
    "from src.general_utils.general_utils import read_configuration"
   ],
   "id": "5c98f467c5740328",
   "outputs": [],
   "execution_count": 6
  },
  {
   "metadata": {},
   "cell_type": "markdown",
   "source": "## Setup Plots Characteristics",
   "id": "6776328c1c7f61f6"
  },
  {
   "metadata": {
    "ExecuteTime": {
     "end_time": "2024-05-25T21:29:23.851990Z",
     "start_time": "2024-05-25T21:29:23.846450Z"
    }
   },
   "cell_type": "code",
   "source": [
    "# Define Seaborn theme parameters\n",
    "theme_parameters =  {\n",
    "    'axes.spines.right': False,\n",
    "    'axes.spines.top': False,\n",
    "    'grid.alpha':0.3,\n",
    "    'figure.figsize': (16, 6),\n",
    "    'font.family': 'Andale Mono',\n",
    "    'axes.titlesize': 24,\n",
    "    'figure.facecolor': '#E5E8E8',\n",
    "    'axes.facecolor': '#E5E8E8'\n",
    "}\n",
    "\n",
    "# Set the theme\n",
    "sns.set_theme(style='whitegrid',\n",
    "              palette=sns.color_palette('deep'), \n",
    "              rc=theme_parameters)"
   ],
   "id": "b6bf2ac5126d2c6f",
   "outputs": [],
   "execution_count": 4
  },
  {
   "metadata": {
    "ExecuteTime": {
     "end_time": "2024-05-25T21:29:30.849959Z",
     "start_time": "2024-05-25T21:29:30.846043Z"
    }
   },
   "cell_type": "code",
   "source": [
    "# Define Colors\n",
    "black = Style.BRIGHT + Fore.BLACK\n",
    "magenta = Style.BRIGHT + Fore.MAGENTA\n",
    "red = Style.BRIGHT + Fore.RED\n",
    "blue = Style.BRIGHT + Fore.BLUE\n",
    "reset_colors = Style.RESET_ALL"
   ],
   "id": "b6174f573d32744d",
   "outputs": [],
   "execution_count": 5
  },
  {
   "metadata": {},
   "cell_type": "markdown",
   "source": "## Define Configuration",
   "id": "3f99fb7198e3e1a8"
  },
  {
   "metadata": {
    "ExecuteTime": {
     "end_time": "2024-05-25T21:46:55.745657Z",
     "start_time": "2024-05-25T21:46:55.735298Z"
    }
   },
   "cell_type": "code",
   "source": [
    "# Retrieve root path\n",
    "root_path = Path(os.getcwd()).parents[0]\n",
    "\n",
    "# Read configuration variables\n",
    "config = read_configuration(root_path / 'configuration' / 'config.yaml')\n",
    "\n",
    "# Extract configuration variables\n",
    "dataset_config = config['dataset']"
   ],
   "id": "5a94048492ea6ecd",
   "outputs": [
    {
     "name": "stdout",
     "output_type": "stream",
     "text": [
      "[05/25/2024 23:46:55 - general_utils] INFO - read_configuration - Start\n",
      "[05/25/2024 23:46:55 - general_utils] INFO - read_configuration - Reading /Users/s.porreca/Projects/customer_churn_predictor/configuration/config.yaml\n",
      "[05/25/2024 23:46:55 - general_utils] INFO - read_configuration - Configuration file /Users/s.porreca/Projects/customer_churn_predictor/configuration/config.yaml read successfully\n",
      "[05/25/2024 23:46:55 - general_utils] INFO - read_configuration - End\n"
     ]
    }
   ],
   "execution_count": 11
  },
  {
   "metadata": {},
   "cell_type": "markdown",
   "source": "# Read Data",
   "id": "9963d2050e5b0ea7"
  },
  {
   "metadata": {
    "ExecuteTime": {
     "end_time": "2024-05-25T21:47:47.218993Z",
     "start_time": "2024-05-25T21:47:47.187893Z"
    }
   },
   "cell_type": "code",
   "source": [
    "# Read data\n",
    "data = pd.read_csv(root_path.as_posix() + '/' + dataset_config['path'])"
   ],
   "id": "bc44a2db9fd9689e",
   "outputs": [],
   "execution_count": 14
  },
  {
   "metadata": {},
   "cell_type": "markdown",
   "source": "# Exploratory Data Analysis",
   "id": "945845fa6c381cf2"
  },
  {
   "metadata": {},
   "cell_type": "markdown",
   "source": "## General",
   "id": "5d38ca03b4fe9c91"
  },
  {
   "metadata": {},
   "cell_type": "markdown",
   "source": "### Data Types",
   "id": "df3f9d2c21a2446d"
  },
  {
   "metadata": {
    "ExecuteTime": {
     "end_time": "2024-05-25T21:49:30.935246Z",
     "start_time": "2024-05-25T21:49:30.921053Z"
    }
   },
   "cell_type": "code",
   "source": "data.info()",
   "id": "ad447f1021d37716",
   "outputs": [
    {
     "name": "stdout",
     "output_type": "stream",
     "text": [
      "<class 'pandas.core.frame.DataFrame'>\n",
      "RangeIndex: 7043 entries, 0 to 7042\n",
      "Data columns (total 21 columns):\n",
      " #   Column            Non-Null Count  Dtype  \n",
      "---  ------            --------------  -----  \n",
      " 0   customerID        7043 non-null   object \n",
      " 1   gender            7043 non-null   object \n",
      " 2   SeniorCitizen     7043 non-null   int64  \n",
      " 3   Partner           7043 non-null   object \n",
      " 4   Dependents        7043 non-null   object \n",
      " 5   tenure            7043 non-null   int64  \n",
      " 6   PhoneService      7043 non-null   object \n",
      " 7   MultipleLines     7043 non-null   object \n",
      " 8   InternetService   7043 non-null   object \n",
      " 9   OnlineSecurity    7043 non-null   object \n",
      " 10  OnlineBackup      7043 non-null   object \n",
      " 11  DeviceProtection  7043 non-null   object \n",
      " 12  TechSupport       7043 non-null   object \n",
      " 13  StreamingTV       7043 non-null   object \n",
      " 14  StreamingMovies   7043 non-null   object \n",
      " 15  Contract          7043 non-null   object \n",
      " 16  PaperlessBilling  7043 non-null   object \n",
      " 17  PaymentMethod     7043 non-null   object \n",
      " 18  MonthlyCharges    7043 non-null   float64\n",
      " 19  TotalCharges      7043 non-null   object \n",
      " 20  Churn             7043 non-null   object \n",
      "dtypes: float64(1), int64(2), object(18)\n",
      "memory usage: 1.1+ MB\n"
     ]
    }
   ],
   "execution_count": 16
  },
  {
   "metadata": {},
   "cell_type": "markdown",
   "source": "- Most of the features seem categorical &rarr; Encoding techniques might increase the data size",
   "id": "bae4482d60a4c00a"
  },
  {
   "metadata": {},
   "cell_type": "markdown",
   "source": "### Sample Data",
   "id": "294bb74c5872daa5"
  },
  {
   "metadata": {
    "ExecuteTime": {
     "end_time": "2024-05-25T21:49:56.657710Z",
     "start_time": "2024-05-25T21:49:56.637147Z"
    }
   },
   "cell_type": "code",
   "source": "data.sample(5)",
   "id": "d3318615e4e7a4aa",
   "outputs": [
    {
     "data": {
      "text/plain": [
       "      customerID  gender  SeniorCitizen Partner Dependents  tenure  \\\n",
       "2382  6114-TCFID  Female              0      No         No      29   \n",
       "5601  2877-VDUER  Female              0     Yes        Yes      35   \n",
       "2877  0310-MVLET  Female              0     Yes        Yes      61   \n",
       "2659  3166-PNEOF  Female              0      No         No      61   \n",
       "1243  5552-ZNFSJ    Male              0      No         No       1   \n",
       "\n",
       "     PhoneService     MultipleLines InternetService OnlineSecurity  ...  \\\n",
       "2382           No  No phone service             DSL            Yes  ...   \n",
       "5601           No  No phone service             DSL             No  ...   \n",
       "2877          Yes               Yes     Fiber optic             No  ...   \n",
       "2659          Yes               Yes             DSL            Yes  ...   \n",
       "1243          Yes                No             DSL             No  ...   \n",
       "\n",
       "     DeviceProtection TechSupport StreamingTV StreamingMovies        Contract  \\\n",
       "2382               No         Yes          No              No        One year   \n",
       "5601               No         Yes         Yes              No        One year   \n",
       "2877               No          No         Yes             Yes  Month-to-month   \n",
       "2659              Yes         Yes         Yes             Yes        Two year   \n",
       "1243               No          No          No              No  Month-to-month   \n",
       "\n",
       "     PaperlessBilling            PaymentMethod MonthlyCharges  TotalCharges  \\\n",
       "2382               No  Credit card (automatic)          39.50       1082.75   \n",
       "5601               No             Mailed check          40.90        1383.6   \n",
       "2877              Yes         Electronic check          99.15       6010.05   \n",
       "2659               No  Credit card (automatic)          86.45        5175.3   \n",
       "1243               No         Electronic check          45.30          45.3   \n",
       "\n",
       "     Churn  \n",
       "2382    No  \n",
       "5601    No  \n",
       "2877   Yes  \n",
       "2659    No  \n",
       "1243   Yes  \n",
       "\n",
       "[5 rows x 21 columns]"
      ],
      "text/html": [
       "<div>\n",
       "<style scoped>\n",
       "    .dataframe tbody tr th:only-of-type {\n",
       "        vertical-align: middle;\n",
       "    }\n",
       "\n",
       "    .dataframe tbody tr th {\n",
       "        vertical-align: top;\n",
       "    }\n",
       "\n",
       "    .dataframe thead th {\n",
       "        text-align: right;\n",
       "    }\n",
       "</style>\n",
       "<table border=\"1\" class=\"dataframe\">\n",
       "  <thead>\n",
       "    <tr style=\"text-align: right;\">\n",
       "      <th></th>\n",
       "      <th>customerID</th>\n",
       "      <th>gender</th>\n",
       "      <th>SeniorCitizen</th>\n",
       "      <th>Partner</th>\n",
       "      <th>Dependents</th>\n",
       "      <th>tenure</th>\n",
       "      <th>PhoneService</th>\n",
       "      <th>MultipleLines</th>\n",
       "      <th>InternetService</th>\n",
       "      <th>OnlineSecurity</th>\n",
       "      <th>...</th>\n",
       "      <th>DeviceProtection</th>\n",
       "      <th>TechSupport</th>\n",
       "      <th>StreamingTV</th>\n",
       "      <th>StreamingMovies</th>\n",
       "      <th>Contract</th>\n",
       "      <th>PaperlessBilling</th>\n",
       "      <th>PaymentMethod</th>\n",
       "      <th>MonthlyCharges</th>\n",
       "      <th>TotalCharges</th>\n",
       "      <th>Churn</th>\n",
       "    </tr>\n",
       "  </thead>\n",
       "  <tbody>\n",
       "    <tr>\n",
       "      <th>2382</th>\n",
       "      <td>6114-TCFID</td>\n",
       "      <td>Female</td>\n",
       "      <td>0</td>\n",
       "      <td>No</td>\n",
       "      <td>No</td>\n",
       "      <td>29</td>\n",
       "      <td>No</td>\n",
       "      <td>No phone service</td>\n",
       "      <td>DSL</td>\n",
       "      <td>Yes</td>\n",
       "      <td>...</td>\n",
       "      <td>No</td>\n",
       "      <td>Yes</td>\n",
       "      <td>No</td>\n",
       "      <td>No</td>\n",
       "      <td>One year</td>\n",
       "      <td>No</td>\n",
       "      <td>Credit card (automatic)</td>\n",
       "      <td>39.50</td>\n",
       "      <td>1082.75</td>\n",
       "      <td>No</td>\n",
       "    </tr>\n",
       "    <tr>\n",
       "      <th>5601</th>\n",
       "      <td>2877-VDUER</td>\n",
       "      <td>Female</td>\n",
       "      <td>0</td>\n",
       "      <td>Yes</td>\n",
       "      <td>Yes</td>\n",
       "      <td>35</td>\n",
       "      <td>No</td>\n",
       "      <td>No phone service</td>\n",
       "      <td>DSL</td>\n",
       "      <td>No</td>\n",
       "      <td>...</td>\n",
       "      <td>No</td>\n",
       "      <td>Yes</td>\n",
       "      <td>Yes</td>\n",
       "      <td>No</td>\n",
       "      <td>One year</td>\n",
       "      <td>No</td>\n",
       "      <td>Mailed check</td>\n",
       "      <td>40.90</td>\n",
       "      <td>1383.6</td>\n",
       "      <td>No</td>\n",
       "    </tr>\n",
       "    <tr>\n",
       "      <th>2877</th>\n",
       "      <td>0310-MVLET</td>\n",
       "      <td>Female</td>\n",
       "      <td>0</td>\n",
       "      <td>Yes</td>\n",
       "      <td>Yes</td>\n",
       "      <td>61</td>\n",
       "      <td>Yes</td>\n",
       "      <td>Yes</td>\n",
       "      <td>Fiber optic</td>\n",
       "      <td>No</td>\n",
       "      <td>...</td>\n",
       "      <td>No</td>\n",
       "      <td>No</td>\n",
       "      <td>Yes</td>\n",
       "      <td>Yes</td>\n",
       "      <td>Month-to-month</td>\n",
       "      <td>Yes</td>\n",
       "      <td>Electronic check</td>\n",
       "      <td>99.15</td>\n",
       "      <td>6010.05</td>\n",
       "      <td>Yes</td>\n",
       "    </tr>\n",
       "    <tr>\n",
       "      <th>2659</th>\n",
       "      <td>3166-PNEOF</td>\n",
       "      <td>Female</td>\n",
       "      <td>0</td>\n",
       "      <td>No</td>\n",
       "      <td>No</td>\n",
       "      <td>61</td>\n",
       "      <td>Yes</td>\n",
       "      <td>Yes</td>\n",
       "      <td>DSL</td>\n",
       "      <td>Yes</td>\n",
       "      <td>...</td>\n",
       "      <td>Yes</td>\n",
       "      <td>Yes</td>\n",
       "      <td>Yes</td>\n",
       "      <td>Yes</td>\n",
       "      <td>Two year</td>\n",
       "      <td>No</td>\n",
       "      <td>Credit card (automatic)</td>\n",
       "      <td>86.45</td>\n",
       "      <td>5175.3</td>\n",
       "      <td>No</td>\n",
       "    </tr>\n",
       "    <tr>\n",
       "      <th>1243</th>\n",
       "      <td>5552-ZNFSJ</td>\n",
       "      <td>Male</td>\n",
       "      <td>0</td>\n",
       "      <td>No</td>\n",
       "      <td>No</td>\n",
       "      <td>1</td>\n",
       "      <td>Yes</td>\n",
       "      <td>No</td>\n",
       "      <td>DSL</td>\n",
       "      <td>No</td>\n",
       "      <td>...</td>\n",
       "      <td>No</td>\n",
       "      <td>No</td>\n",
       "      <td>No</td>\n",
       "      <td>No</td>\n",
       "      <td>Month-to-month</td>\n",
       "      <td>No</td>\n",
       "      <td>Electronic check</td>\n",
       "      <td>45.30</td>\n",
       "      <td>45.3</td>\n",
       "      <td>Yes</td>\n",
       "    </tr>\n",
       "  </tbody>\n",
       "</table>\n",
       "<p>5 rows × 21 columns</p>\n",
       "</div>"
      ]
     },
     "execution_count": 17,
     "metadata": {},
     "output_type": "execute_result"
    }
   ],
   "execution_count": 17
  },
  {
   "metadata": {},
   "cell_type": "markdown",
   "source": "### Shape",
   "id": "716596eaf647aa25"
  },
  {
   "metadata": {
    "ExecuteTime": {
     "end_time": "2024-05-25T21:51:18.721869Z",
     "start_time": "2024-05-25T21:51:18.718529Z"
    }
   },
   "cell_type": "code",
   "source": [
    "# Print shapes information\n",
    "print(f'{blue}Data Shapes:'\n",
    "      f'{blue}\\n- All Data -> {red}{data.shape}\\n')"
   ],
   "id": "f231bbcf3bb3ae4d",
   "outputs": [
    {
     "name": "stdout",
     "output_type": "stream",
     "text": [
      "\u001B[1m\u001B[34mData Shapes:\u001B[1m\u001B[34m\n",
      "- All Data -> \u001B[1m\u001B[31m(7043, 21)\n",
      "\n"
     ]
    }
   ],
   "execution_count": 18
  },
  {
   "metadata": {},
   "cell_type": "markdown",
   "source": "### Null Values",
   "id": "be561b8e0a2036b"
  },
  {
   "metadata": {
    "ExecuteTime": {
     "end_time": "2024-05-25T21:51:57.829435Z",
     "start_time": "2024-05-25T21:51:57.820800Z"
    }
   },
   "cell_type": "code",
   "source": [
    "# Print null values information\n",
    "print(f'{blue}Data Columns with Null Values:'\n",
    "      f'{blue}\\n- All Data -> {red}{data.isnull().any().sum()}\\n')"
   ],
   "id": "8ab039144588efd3",
   "outputs": [
    {
     "name": "stdout",
     "output_type": "stream",
     "text": [
      "\u001B[1m\u001B[34mData Columns with Null Values:\u001B[1m\u001B[34m\n",
      "- All Data -> \u001B[1m\u001B[31m0\n",
      "\n"
     ]
    }
   ],
   "execution_count": 19
  },
  {
   "metadata": {},
   "cell_type": "markdown",
   "source": "- No null values &rarr; Imputation step not necessary",
   "id": "9d46ad98bd1a1b5f"
  },
  {
   "metadata": {},
   "cell_type": "code",
   "outputs": [],
   "execution_count": null,
   "source": "",
   "id": "3853b6230c9b4992"
  }
 ],
 "metadata": {
  "kernelspec": {
   "display_name": "churn_predictor",
   "language": "python",
   "name": "churn_predictor"
  },
  "language_info": {
   "codemirror_mode": {
    "name": "ipython",
    "version": 2
   },
   "file_extension": ".py",
   "mimetype": "text/x-python",
   "name": "python",
   "nbconvert_exporter": "python",
   "pygments_lexer": "ipython2",
   "version": "2.7.6"
  }
 },
 "nbformat": 4,
 "nbformat_minor": 5
}

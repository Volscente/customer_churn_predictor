{
 "cells": [
  {
   "metadata": {},
   "cell_type": "markdown",
   "source": [
    "# Telco Customer Churn - Model Training\n",
    "\n",
    "Prepare the dataset Telco Customer Churn in order to research and training the best model for predicting customer churn."
   ],
   "id": "3ad588663361bea8"
  },
  {
   "metadata": {},
   "cell_type": "markdown",
   "source": "# Setup Notebook",
   "id": "acbb6612e6556f45"
  },
  {
   "metadata": {},
   "cell_type": "markdown",
   "source": "## Import",
   "id": "4fa8531a5a0a80d5"
  },
  {
   "metadata": {
    "ExecuteTime": {
     "end_time": "2024-05-28T09:55:39.137900Z",
     "start_time": "2024-05-28T09:55:37.965966Z"
    }
   },
   "cell_type": "code",
   "source": [
    "# Import Standard Libraries\n",
    "import pandas as pd\n",
    "import mlflow\n",
    "import numpy as np\n",
    "\n",
    "import os\n",
    "from pathlib import Path\n",
    "\n",
    "import matplotlib.pyplot as plt\n",
    "import seaborn as sns\n",
    "\n",
    "from colorama import Style, Fore\n",
    "\n",
    "from sklearn.model_selection import train_test_split\n",
    "from sklearn.linear_model import LogisticRegression\n",
    "from sklearn.preprocessing import LabelEncoder\n",
    "\n",
    "# Import Package Modules\n",
    "from src.general_utils.general_utils import read_configuration\n",
    "from src.data_preparation.data_preparation import CustomerChurnDataPreparation\n",
    "from src.model_training.model_training import ModelTrainer"
   ],
   "id": "d085a19b897a3b0b",
   "outputs": [],
   "execution_count": 1
  },
  {
   "metadata": {},
   "cell_type": "markdown",
   "source": "## Setup Plots Characteristics",
   "id": "a51a32c2dcedab76"
  },
  {
   "metadata": {
    "ExecuteTime": {
     "end_time": "2024-05-28T09:55:39.145645Z",
     "start_time": "2024-05-28T09:55:39.140895Z"
    }
   },
   "cell_type": "code",
   "source": [
    "# Define Seaborn theme parameters\n",
    "theme_parameters =  {\n",
    "    'axes.spines.right': False,\n",
    "    'axes.spines.top': False,\n",
    "    'grid.alpha':0.3,\n",
    "    'figure.figsize': (16, 6),\n",
    "    'font.family': 'Andale Mono',\n",
    "    'axes.titlesize': 24,\n",
    "    'figure.facecolor': '#E5E8E8',\n",
    "    'axes.facecolor': '#E5E8E8'\n",
    "}\n",
    "\n",
    "# Set the theme\n",
    "sns.set_theme(style='whitegrid',\n",
    "              palette=sns.color_palette('deep'), \n",
    "              rc=theme_parameters)"
   ],
   "id": "a76498c57373c99",
   "outputs": [],
   "execution_count": 2
  },
  {
   "metadata": {
    "ExecuteTime": {
     "end_time": "2024-05-28T09:55:39.151523Z",
     "start_time": "2024-05-28T09:55:39.147823Z"
    }
   },
   "cell_type": "code",
   "source": [
    "# Define Colors\n",
    "black = Style.BRIGHT + Fore.BLACK\n",
    "magenta = Style.BRIGHT + Fore.MAGENTA\n",
    "red = Style.BRIGHT + Fore.RED\n",
    "blue = Style.BRIGHT + Fore.BLUE\n",
    "reset_colors = Style.RESET_ALL"
   ],
   "id": "3efb2a5409e34a3b",
   "outputs": [],
   "execution_count": 3
  },
  {
   "metadata": {},
   "cell_type": "markdown",
   "source": "## Define Configuration",
   "id": "7188fa76a74dde54"
  },
  {
   "metadata": {
    "ExecuteTime": {
     "end_time": "2024-05-28T09:55:39.169917Z",
     "start_time": "2024-05-28T09:55:39.156257Z"
    }
   },
   "cell_type": "code",
   "source": [
    "# Retrieve root path\n",
    "root_path = Path(os.getcwd()).parents[0]\n",
    "\n",
    "# Read configuration variables\n",
    "config = read_configuration(root_path / 'configuration' / 'config.yaml')\n",
    "\n",
    "# Extract configuration variables\n",
    "dataset_config = config['dataset']\n",
    "data_pipeline_config = config['data_pipeline_config']\n",
    "model_training_config = config['model_training_config']"
   ],
   "id": "e3d0650721db31c",
   "outputs": [
    {
     "name": "stdout",
     "output_type": "stream",
     "text": [
      "[05/28/2024 11:55:39 - general_utils] INFO - read_configuration - Start\n",
      "[05/28/2024 11:55:39 - general_utils] INFO - read_configuration - Reading /Users/s.porreca/Projects/customer_churn_predictor/configuration/config.yaml\n",
      "[05/28/2024 11:55:39 - general_utils] INFO - read_configuration - Configuration file /Users/s.porreca/Projects/customer_churn_predictor/configuration/config.yaml read successfully\n",
      "[05/28/2024 11:55:39 - general_utils] INFO - read_configuration - End\n"
     ]
    }
   ],
   "execution_count": 4
  },
  {
   "metadata": {},
   "cell_type": "markdown",
   "source": "# Read Data",
   "id": "e54b2793b1304664"
  },
  {
   "metadata": {
    "ExecuteTime": {
     "end_time": "2024-05-28T09:55:39.200829Z",
     "start_time": "2024-05-28T09:55:39.171813Z"
    }
   },
   "cell_type": "code",
   "source": [
    "# Read data\n",
    "data = pd.read_csv(root_path.as_posix() + '/' + dataset_config['path'])"
   ],
   "id": "fb6257a0be18b3c0",
   "outputs": [],
   "execution_count": 5
  },
  {
   "metadata": {},
   "cell_type": "markdown",
   "source": "# Data Preparation",
   "id": "e340b2cc1837dedb"
  },
  {
   "metadata": {},
   "cell_type": "markdown",
   "source": "## Define Features and Label",
   "id": "368814029f805ca3"
  },
  {
   "metadata": {
    "ExecuteTime": {
     "end_time": "2024-05-28T09:55:39.209606Z",
     "start_time": "2024-05-28T09:55:39.202340Z"
    }
   },
   "cell_type": "code",
   "source": [
    "# Define the features to include\n",
    "features = data_pipeline_config['features']['numerical'] + \\\n",
    "           data_pipeline_config['features']['categorical']\n",
    "\n",
    "# Define the label to include\n",
    "label = data_pipeline_config['labels']\n",
    "\n",
    "print('Features:')\n",
    "[print(f'{index + 1}. {feature}') for index, feature in enumerate(features)]\n",
    "print()\n",
    "print(f'Labels: {label}')"
   ],
   "id": "608b3584d57dc9b3",
   "outputs": [
    {
     "name": "stdout",
     "output_type": "stream",
     "text": [
      "Features:\n",
      "1. tenure\n",
      "2. MonthlyCharges\n",
      "3. TotalCharges\n",
      "4. gender\n",
      "5. SeniorCitizen\n",
      "6. Partner\n",
      "7. Dependents\n",
      "8. PhoneService\n",
      "9. MultipleLines\n",
      "10. InternetService\n",
      "11. OnlineSecurity\n",
      "12. OnlineBackup\n",
      "13. DeviceProtection\n",
      "14. TechSupport\n",
      "15. StreamingTV\n",
      "16. StreamingMovies\n",
      "17. Contract\n",
      "18. PaperlessBilling\n",
      "19. PaymentMethod\n",
      "\n",
      "Labels: ['Churn']\n"
     ]
    }
   ],
   "execution_count": 6
  },
  {
   "metadata": {},
   "cell_type": "markdown",
   "source": "## Define Data Preparation Pipeline ",
   "id": "b980ce51e88f3689"
  },
  {
   "metadata": {
    "ExecuteTime": {
     "end_time": "2024-05-28T09:55:39.222093Z",
     "start_time": "2024-05-28T09:55:39.211377Z"
    }
   },
   "cell_type": "code",
   "source": [
    "# Instance the data preparation pipeline object\n",
    "data_preparation = CustomerChurnDataPreparation(data_pipeline_config['data_transformations'], \n",
    "                                                data_pipeline_config['features'])"
   ],
   "id": "9f63ab70e1b3a135",
   "outputs": [
    {
     "name": "stdout",
     "output_type": "stream",
     "text": [
      "[05/28/2024 11:55:39 - CustomerChurnDataPreparation] INFO - __init__ - Initialise object attributes\n"
     ]
    }
   ],
   "execution_count": 7
  },
  {
   "metadata": {
    "ExecuteTime": {
     "end_time": "2024-05-28T09:55:39.241172Z",
     "start_time": "2024-05-28T09:55:39.223700Z"
    }
   },
   "cell_type": "code",
   "source": [
    "# Get the training data preparation pipeline\n",
    "data_preparation_pipeline = data_preparation.build_training_data_preparation_pipeline()"
   ],
   "id": "f46d3345146c2873",
   "outputs": [
    {
     "name": "stdout",
     "output_type": "stream",
     "text": [
      "[05/28/2024 11:55:39 - CustomerChurnDataPreparation] INFO - build_training_data_preparation_pipeline - Start\n",
      "[05/28/2024 11:55:39 - CustomerChurnDataPreparation] INFO - build_training_data_preparation_pipeline - Build the Numerical Data Pipeline\n",
      "[05/28/2024 11:55:39 - data_preparation_utils] INFO - build_numerical_data_pipeline_steps - Start\n",
      "[05/28/2024 11:55:39 - data_preparation_utils] INFO - build_numerical_data_pipeline_steps - Building steps\n",
      "[05/28/2024 11:55:39 - data_preparation_utils] INFO - build_numerical_data_pipeline_steps - Skipping Feature Engineering step\n",
      "[05/28/2024 11:55:39 - data_preparation_utils] INFO - build_numerical_data_pipeline_steps - Adding SimpleImputer Imputation step\n",
      "[05/28/2024 11:55:39 - data_preparation_utils] INFO - build_numerical_data_pipeline_steps - Adding MinMaxScaler Standardisation step\n",
      "[05/28/2024 11:55:39 - data_preparation_utils] INFO - build_numerical_data_pipeline_steps - Skipping Normalization step\n",
      "[05/28/2024 11:55:39 - data_preparation_utils] INFO - build_numerical_data_pipeline_steps - End\n",
      "[05/28/2024 11:55:39 - CustomerChurnDataPreparation] INFO - build_training_data_preparation_pipeline - Build the Categorical Data Pipeline\n",
      "[05/28/2024 11:55:39 - data_preparation_utils] INFO - build_categorical_data_pipeline_steps - Start\n",
      "[05/28/2024 11:55:39 - data_preparation_utils] INFO - build_categorical_data_pipeline_steps - Building steps\n",
      "[05/28/2024 11:55:39 - data_preparation_utils] INFO - build_categorical_data_pipeline_steps - Adding SimpleImputer Imputation step\n",
      "[05/28/2024 11:55:39 - data_preparation_utils] INFO - build_categorical_data_pipeline_steps - Adding OneHotEncoder One-hot Encoding step\n",
      "[05/28/2024 11:55:39 - data_preparation_utils] INFO - build_categorical_data_pipeline_steps - End\n",
      "[05/28/2024 11:55:39 - CustomerChurnDataPreparation] INFO - build_training_data_preparation_pipeline - Bundle the data pipeline\n",
      "[05/28/2024 11:55:39 - CustomerChurnDataPreparation] INFO - build_training_data_preparation_pipeline - End\n"
     ]
    }
   ],
   "execution_count": 8
  },
  {
   "metadata": {
    "ExecuteTime": {
     "end_time": "2024-05-28T09:55:39.277411Z",
     "start_time": "2024-05-28T09:55:39.243535Z"
    }
   },
   "cell_type": "code",
   "source": "data_preparation_pipeline",
   "id": "73fa89f292512090",
   "outputs": [
    {
     "data": {
      "text/plain": [
       "ColumnTransformer(transformers=[('numerical',\n",
       "                                 Pipeline(steps=[('imputation',\n",
       "                                                  SimpleImputer(copy=False,\n",
       "                                                                strategy='median')),\n",
       "                                                 ('standardisation',\n",
       "                                                  MinMaxScaler())]),\n",
       "                                 ['tenure', 'MonthlyCharges', 'TotalCharges']),\n",
       "                                ('categorical',\n",
       "                                 Pipeline(steps=[('imputation',\n",
       "                                                  SimpleImputer(copy=False,\n",
       "                                                                fill_value='unknown',\n",
       "                                                                strategy='constant')),\n",
       "                                                 ('one_hot_encoding',\n",
       "                                                  OneHotEncoder())]),\n",
       "                                 ['gender', 'SeniorCitizen', 'Partner',\n",
       "                                  'Dependents', 'PhoneService', 'MultipleLines',\n",
       "                                  'InternetService', 'OnlineSecurity',\n",
       "                                  'OnlineBackup', 'DeviceProtection',\n",
       "                                  'TechSupport', 'StreamingTV',\n",
       "                                  'StreamingMovies', 'Contract',\n",
       "                                  'PaperlessBilling', 'PaymentMethod'])])"
      ],
      "text/html": [
       "<style>#sk-container-id-1 {\n",
       "  /* Definition of color scheme common for light and dark mode */\n",
       "  --sklearn-color-text: black;\n",
       "  --sklearn-color-line: gray;\n",
       "  /* Definition of color scheme for unfitted estimators */\n",
       "  --sklearn-color-unfitted-level-0: #fff5e6;\n",
       "  --sklearn-color-unfitted-level-1: #f6e4d2;\n",
       "  --sklearn-color-unfitted-level-2: #ffe0b3;\n",
       "  --sklearn-color-unfitted-level-3: chocolate;\n",
       "  /* Definition of color scheme for fitted estimators */\n",
       "  --sklearn-color-fitted-level-0: #f0f8ff;\n",
       "  --sklearn-color-fitted-level-1: #d4ebff;\n",
       "  --sklearn-color-fitted-level-2: #b3dbfd;\n",
       "  --sklearn-color-fitted-level-3: cornflowerblue;\n",
       "\n",
       "  /* Specific color for light theme */\n",
       "  --sklearn-color-text-on-default-background: var(--sg-text-color, var(--theme-code-foreground, var(--jp-content-font-color1, black)));\n",
       "  --sklearn-color-background: var(--sg-background-color, var(--theme-background, var(--jp-layout-color0, white)));\n",
       "  --sklearn-color-border-box: var(--sg-text-color, var(--theme-code-foreground, var(--jp-content-font-color1, black)));\n",
       "  --sklearn-color-icon: #696969;\n",
       "\n",
       "  @media (prefers-color-scheme: dark) {\n",
       "    /* Redefinition of color scheme for dark theme */\n",
       "    --sklearn-color-text-on-default-background: var(--sg-text-color, var(--theme-code-foreground, var(--jp-content-font-color1, white)));\n",
       "    --sklearn-color-background: var(--sg-background-color, var(--theme-background, var(--jp-layout-color0, #111)));\n",
       "    --sklearn-color-border-box: var(--sg-text-color, var(--theme-code-foreground, var(--jp-content-font-color1, white)));\n",
       "    --sklearn-color-icon: #878787;\n",
       "  }\n",
       "}\n",
       "\n",
       "#sk-container-id-1 {\n",
       "  color: var(--sklearn-color-text);\n",
       "}\n",
       "\n",
       "#sk-container-id-1 pre {\n",
       "  padding: 0;\n",
       "}\n",
       "\n",
       "#sk-container-id-1 input.sk-hidden--visually {\n",
       "  border: 0;\n",
       "  clip: rect(1px 1px 1px 1px);\n",
       "  clip: rect(1px, 1px, 1px, 1px);\n",
       "  height: 1px;\n",
       "  margin: -1px;\n",
       "  overflow: hidden;\n",
       "  padding: 0;\n",
       "  position: absolute;\n",
       "  width: 1px;\n",
       "}\n",
       "\n",
       "#sk-container-id-1 div.sk-dashed-wrapped {\n",
       "  border: 1px dashed var(--sklearn-color-line);\n",
       "  margin: 0 0.4em 0.5em 0.4em;\n",
       "  box-sizing: border-box;\n",
       "  padding-bottom: 0.4em;\n",
       "  background-color: var(--sklearn-color-background);\n",
       "}\n",
       "\n",
       "#sk-container-id-1 div.sk-container {\n",
       "  /* jupyter's `normalize.less` sets `[hidden] { display: none; }`\n",
       "     but bootstrap.min.css set `[hidden] { display: none !important; }`\n",
       "     so we also need the `!important` here to be able to override the\n",
       "     default hidden behavior on the sphinx rendered scikit-learn.org.\n",
       "     See: https://github.com/scikit-learn/scikit-learn/issues/21755 */\n",
       "  display: inline-block !important;\n",
       "  position: relative;\n",
       "}\n",
       "\n",
       "#sk-container-id-1 div.sk-text-repr-fallback {\n",
       "  display: none;\n",
       "}\n",
       "\n",
       "div.sk-parallel-item,\n",
       "div.sk-serial,\n",
       "div.sk-item {\n",
       "  /* draw centered vertical line to link estimators */\n",
       "  background-image: linear-gradient(var(--sklearn-color-text-on-default-background), var(--sklearn-color-text-on-default-background));\n",
       "  background-size: 2px 100%;\n",
       "  background-repeat: no-repeat;\n",
       "  background-position: center center;\n",
       "}\n",
       "\n",
       "/* Parallel-specific style estimator block */\n",
       "\n",
       "#sk-container-id-1 div.sk-parallel-item::after {\n",
       "  content: \"\";\n",
       "  width: 100%;\n",
       "  border-bottom: 2px solid var(--sklearn-color-text-on-default-background);\n",
       "  flex-grow: 1;\n",
       "}\n",
       "\n",
       "#sk-container-id-1 div.sk-parallel {\n",
       "  display: flex;\n",
       "  align-items: stretch;\n",
       "  justify-content: center;\n",
       "  background-color: var(--sklearn-color-background);\n",
       "  position: relative;\n",
       "}\n",
       "\n",
       "#sk-container-id-1 div.sk-parallel-item {\n",
       "  display: flex;\n",
       "  flex-direction: column;\n",
       "}\n",
       "\n",
       "#sk-container-id-1 div.sk-parallel-item:first-child::after {\n",
       "  align-self: flex-end;\n",
       "  width: 50%;\n",
       "}\n",
       "\n",
       "#sk-container-id-1 div.sk-parallel-item:last-child::after {\n",
       "  align-self: flex-start;\n",
       "  width: 50%;\n",
       "}\n",
       "\n",
       "#sk-container-id-1 div.sk-parallel-item:only-child::after {\n",
       "  width: 0;\n",
       "}\n",
       "\n",
       "/* Serial-specific style estimator block */\n",
       "\n",
       "#sk-container-id-1 div.sk-serial {\n",
       "  display: flex;\n",
       "  flex-direction: column;\n",
       "  align-items: center;\n",
       "  background-color: var(--sklearn-color-background);\n",
       "  padding-right: 1em;\n",
       "  padding-left: 1em;\n",
       "}\n",
       "\n",
       "\n",
       "/* Toggleable style: style used for estimator/Pipeline/ColumnTransformer box that is\n",
       "clickable and can be expanded/collapsed.\n",
       "- Pipeline and ColumnTransformer use this feature and define the default style\n",
       "- Estimators will overwrite some part of the style using the `sk-estimator` class\n",
       "*/\n",
       "\n",
       "/* Pipeline and ColumnTransformer style (default) */\n",
       "\n",
       "#sk-container-id-1 div.sk-toggleable {\n",
       "  /* Default theme specific background. It is overwritten whether we have a\n",
       "  specific estimator or a Pipeline/ColumnTransformer */\n",
       "  background-color: var(--sklearn-color-background);\n",
       "}\n",
       "\n",
       "/* Toggleable label */\n",
       "#sk-container-id-1 label.sk-toggleable__label {\n",
       "  cursor: pointer;\n",
       "  display: block;\n",
       "  width: 100%;\n",
       "  margin-bottom: 0;\n",
       "  padding: 0.5em;\n",
       "  box-sizing: border-box;\n",
       "  text-align: center;\n",
       "}\n",
       "\n",
       "#sk-container-id-1 label.sk-toggleable__label-arrow:before {\n",
       "  /* Arrow on the left of the label */\n",
       "  content: \"▸\";\n",
       "  float: left;\n",
       "  margin-right: 0.25em;\n",
       "  color: var(--sklearn-color-icon);\n",
       "}\n",
       "\n",
       "#sk-container-id-1 label.sk-toggleable__label-arrow:hover:before {\n",
       "  color: var(--sklearn-color-text);\n",
       "}\n",
       "\n",
       "/* Toggleable content - dropdown */\n",
       "\n",
       "#sk-container-id-1 div.sk-toggleable__content {\n",
       "  max-height: 0;\n",
       "  max-width: 0;\n",
       "  overflow: hidden;\n",
       "  text-align: left;\n",
       "  /* unfitted */\n",
       "  background-color: var(--sklearn-color-unfitted-level-0);\n",
       "}\n",
       "\n",
       "#sk-container-id-1 div.sk-toggleable__content.fitted {\n",
       "  /* fitted */\n",
       "  background-color: var(--sklearn-color-fitted-level-0);\n",
       "}\n",
       "\n",
       "#sk-container-id-1 div.sk-toggleable__content pre {\n",
       "  margin: 0.2em;\n",
       "  border-radius: 0.25em;\n",
       "  color: var(--sklearn-color-text);\n",
       "  /* unfitted */\n",
       "  background-color: var(--sklearn-color-unfitted-level-0);\n",
       "}\n",
       "\n",
       "#sk-container-id-1 div.sk-toggleable__content.fitted pre {\n",
       "  /* unfitted */\n",
       "  background-color: var(--sklearn-color-fitted-level-0);\n",
       "}\n",
       "\n",
       "#sk-container-id-1 input.sk-toggleable__control:checked~div.sk-toggleable__content {\n",
       "  /* Expand drop-down */\n",
       "  max-height: 200px;\n",
       "  max-width: 100%;\n",
       "  overflow: auto;\n",
       "}\n",
       "\n",
       "#sk-container-id-1 input.sk-toggleable__control:checked~label.sk-toggleable__label-arrow:before {\n",
       "  content: \"▾\";\n",
       "}\n",
       "\n",
       "/* Pipeline/ColumnTransformer-specific style */\n",
       "\n",
       "#sk-container-id-1 div.sk-label input.sk-toggleable__control:checked~label.sk-toggleable__label {\n",
       "  color: var(--sklearn-color-text);\n",
       "  background-color: var(--sklearn-color-unfitted-level-2);\n",
       "}\n",
       "\n",
       "#sk-container-id-1 div.sk-label.fitted input.sk-toggleable__control:checked~label.sk-toggleable__label {\n",
       "  background-color: var(--sklearn-color-fitted-level-2);\n",
       "}\n",
       "\n",
       "/* Estimator-specific style */\n",
       "\n",
       "/* Colorize estimator box */\n",
       "#sk-container-id-1 div.sk-estimator input.sk-toggleable__control:checked~label.sk-toggleable__label {\n",
       "  /* unfitted */\n",
       "  background-color: var(--sklearn-color-unfitted-level-2);\n",
       "}\n",
       "\n",
       "#sk-container-id-1 div.sk-estimator.fitted input.sk-toggleable__control:checked~label.sk-toggleable__label {\n",
       "  /* fitted */\n",
       "  background-color: var(--sklearn-color-fitted-level-2);\n",
       "}\n",
       "\n",
       "#sk-container-id-1 div.sk-label label.sk-toggleable__label,\n",
       "#sk-container-id-1 div.sk-label label {\n",
       "  /* The background is the default theme color */\n",
       "  color: var(--sklearn-color-text-on-default-background);\n",
       "}\n",
       "\n",
       "/* On hover, darken the color of the background */\n",
       "#sk-container-id-1 div.sk-label:hover label.sk-toggleable__label {\n",
       "  color: var(--sklearn-color-text);\n",
       "  background-color: var(--sklearn-color-unfitted-level-2);\n",
       "}\n",
       "\n",
       "/* Label box, darken color on hover, fitted */\n",
       "#sk-container-id-1 div.sk-label.fitted:hover label.sk-toggleable__label.fitted {\n",
       "  color: var(--sklearn-color-text);\n",
       "  background-color: var(--sklearn-color-fitted-level-2);\n",
       "}\n",
       "\n",
       "/* Estimator label */\n",
       "\n",
       "#sk-container-id-1 div.sk-label label {\n",
       "  font-family: monospace;\n",
       "  font-weight: bold;\n",
       "  display: inline-block;\n",
       "  line-height: 1.2em;\n",
       "}\n",
       "\n",
       "#sk-container-id-1 div.sk-label-container {\n",
       "  text-align: center;\n",
       "}\n",
       "\n",
       "/* Estimator-specific */\n",
       "#sk-container-id-1 div.sk-estimator {\n",
       "  font-family: monospace;\n",
       "  border: 1px dotted var(--sklearn-color-border-box);\n",
       "  border-radius: 0.25em;\n",
       "  box-sizing: border-box;\n",
       "  margin-bottom: 0.5em;\n",
       "  /* unfitted */\n",
       "  background-color: var(--sklearn-color-unfitted-level-0);\n",
       "}\n",
       "\n",
       "#sk-container-id-1 div.sk-estimator.fitted {\n",
       "  /* fitted */\n",
       "  background-color: var(--sklearn-color-fitted-level-0);\n",
       "}\n",
       "\n",
       "/* on hover */\n",
       "#sk-container-id-1 div.sk-estimator:hover {\n",
       "  /* unfitted */\n",
       "  background-color: var(--sklearn-color-unfitted-level-2);\n",
       "}\n",
       "\n",
       "#sk-container-id-1 div.sk-estimator.fitted:hover {\n",
       "  /* fitted */\n",
       "  background-color: var(--sklearn-color-fitted-level-2);\n",
       "}\n",
       "\n",
       "/* Specification for estimator info (e.g. \"i\" and \"?\") */\n",
       "\n",
       "/* Common style for \"i\" and \"?\" */\n",
       "\n",
       ".sk-estimator-doc-link,\n",
       "a:link.sk-estimator-doc-link,\n",
       "a:visited.sk-estimator-doc-link {\n",
       "  float: right;\n",
       "  font-size: smaller;\n",
       "  line-height: 1em;\n",
       "  font-family: monospace;\n",
       "  background-color: var(--sklearn-color-background);\n",
       "  border-radius: 1em;\n",
       "  height: 1em;\n",
       "  width: 1em;\n",
       "  text-decoration: none !important;\n",
       "  margin-left: 1ex;\n",
       "  /* unfitted */\n",
       "  border: var(--sklearn-color-unfitted-level-1) 1pt solid;\n",
       "  color: var(--sklearn-color-unfitted-level-1);\n",
       "}\n",
       "\n",
       ".sk-estimator-doc-link.fitted,\n",
       "a:link.sk-estimator-doc-link.fitted,\n",
       "a:visited.sk-estimator-doc-link.fitted {\n",
       "  /* fitted */\n",
       "  border: var(--sklearn-color-fitted-level-1) 1pt solid;\n",
       "  color: var(--sklearn-color-fitted-level-1);\n",
       "}\n",
       "\n",
       "/* On hover */\n",
       "div.sk-estimator:hover .sk-estimator-doc-link:hover,\n",
       ".sk-estimator-doc-link:hover,\n",
       "div.sk-label-container:hover .sk-estimator-doc-link:hover,\n",
       ".sk-estimator-doc-link:hover {\n",
       "  /* unfitted */\n",
       "  background-color: var(--sklearn-color-unfitted-level-3);\n",
       "  color: var(--sklearn-color-background);\n",
       "  text-decoration: none;\n",
       "}\n",
       "\n",
       "div.sk-estimator.fitted:hover .sk-estimator-doc-link.fitted:hover,\n",
       ".sk-estimator-doc-link.fitted:hover,\n",
       "div.sk-label-container:hover .sk-estimator-doc-link.fitted:hover,\n",
       ".sk-estimator-doc-link.fitted:hover {\n",
       "  /* fitted */\n",
       "  background-color: var(--sklearn-color-fitted-level-3);\n",
       "  color: var(--sklearn-color-background);\n",
       "  text-decoration: none;\n",
       "}\n",
       "\n",
       "/* Span, style for the box shown on hovering the info icon */\n",
       ".sk-estimator-doc-link span {\n",
       "  display: none;\n",
       "  z-index: 9999;\n",
       "  position: relative;\n",
       "  font-weight: normal;\n",
       "  right: .2ex;\n",
       "  padding: .5ex;\n",
       "  margin: .5ex;\n",
       "  width: min-content;\n",
       "  min-width: 20ex;\n",
       "  max-width: 50ex;\n",
       "  color: var(--sklearn-color-text);\n",
       "  box-shadow: 2pt 2pt 4pt #999;\n",
       "  /* unfitted */\n",
       "  background: var(--sklearn-color-unfitted-level-0);\n",
       "  border: .5pt solid var(--sklearn-color-unfitted-level-3);\n",
       "}\n",
       "\n",
       ".sk-estimator-doc-link.fitted span {\n",
       "  /* fitted */\n",
       "  background: var(--sklearn-color-fitted-level-0);\n",
       "  border: var(--sklearn-color-fitted-level-3);\n",
       "}\n",
       "\n",
       ".sk-estimator-doc-link:hover span {\n",
       "  display: block;\n",
       "}\n",
       "\n",
       "/* \"?\"-specific style due to the `<a>` HTML tag */\n",
       "\n",
       "#sk-container-id-1 a.estimator_doc_link {\n",
       "  float: right;\n",
       "  font-size: 1rem;\n",
       "  line-height: 1em;\n",
       "  font-family: monospace;\n",
       "  background-color: var(--sklearn-color-background);\n",
       "  border-radius: 1rem;\n",
       "  height: 1rem;\n",
       "  width: 1rem;\n",
       "  text-decoration: none;\n",
       "  /* unfitted */\n",
       "  color: var(--sklearn-color-unfitted-level-1);\n",
       "  border: var(--sklearn-color-unfitted-level-1) 1pt solid;\n",
       "}\n",
       "\n",
       "#sk-container-id-1 a.estimator_doc_link.fitted {\n",
       "  /* fitted */\n",
       "  border: var(--sklearn-color-fitted-level-1) 1pt solid;\n",
       "  color: var(--sklearn-color-fitted-level-1);\n",
       "}\n",
       "\n",
       "/* On hover */\n",
       "#sk-container-id-1 a.estimator_doc_link:hover {\n",
       "  /* unfitted */\n",
       "  background-color: var(--sklearn-color-unfitted-level-3);\n",
       "  color: var(--sklearn-color-background);\n",
       "  text-decoration: none;\n",
       "}\n",
       "\n",
       "#sk-container-id-1 a.estimator_doc_link.fitted:hover {\n",
       "  /* fitted */\n",
       "  background-color: var(--sklearn-color-fitted-level-3);\n",
       "}\n",
       "</style><div id=\"sk-container-id-1\" class=\"sk-top-container\"><div class=\"sk-text-repr-fallback\"><pre>ColumnTransformer(transformers=[(&#x27;numerical&#x27;,\n",
       "                                 Pipeline(steps=[(&#x27;imputation&#x27;,\n",
       "                                                  SimpleImputer(copy=False,\n",
       "                                                                strategy=&#x27;median&#x27;)),\n",
       "                                                 (&#x27;standardisation&#x27;,\n",
       "                                                  MinMaxScaler())]),\n",
       "                                 [&#x27;tenure&#x27;, &#x27;MonthlyCharges&#x27;, &#x27;TotalCharges&#x27;]),\n",
       "                                (&#x27;categorical&#x27;,\n",
       "                                 Pipeline(steps=[(&#x27;imputation&#x27;,\n",
       "                                                  SimpleImputer(copy=False,\n",
       "                                                                fill_value=&#x27;unknown&#x27;,\n",
       "                                                                strategy=&#x27;constant&#x27;)),\n",
       "                                                 (&#x27;one_hot_encoding&#x27;,\n",
       "                                                  OneHotEncoder())]),\n",
       "                                 [&#x27;gender&#x27;, &#x27;SeniorCitizen&#x27;, &#x27;Partner&#x27;,\n",
       "                                  &#x27;Dependents&#x27;, &#x27;PhoneService&#x27;, &#x27;MultipleLines&#x27;,\n",
       "                                  &#x27;InternetService&#x27;, &#x27;OnlineSecurity&#x27;,\n",
       "                                  &#x27;OnlineBackup&#x27;, &#x27;DeviceProtection&#x27;,\n",
       "                                  &#x27;TechSupport&#x27;, &#x27;StreamingTV&#x27;,\n",
       "                                  &#x27;StreamingMovies&#x27;, &#x27;Contract&#x27;,\n",
       "                                  &#x27;PaperlessBilling&#x27;, &#x27;PaymentMethod&#x27;])])</pre><b>In a Jupyter environment, please rerun this cell to show the HTML representation or trust the notebook. <br />On GitHub, the HTML representation is unable to render, please try loading this page with nbviewer.org.</b></div><div class=\"sk-container\" hidden><div class=\"sk-item sk-dashed-wrapped\"><div class=\"sk-label-container\"><div class=\"sk-label  sk-toggleable\"><input class=\"sk-toggleable__control sk-hidden--visually\" id=\"sk-estimator-id-1\" type=\"checkbox\" ><label for=\"sk-estimator-id-1\" class=\"sk-toggleable__label  sk-toggleable__label-arrow \">&nbsp;&nbsp;ColumnTransformer<a class=\"sk-estimator-doc-link \" rel=\"noreferrer\" target=\"_blank\" href=\"https://scikit-learn.org/1.5/modules/generated/sklearn.compose.ColumnTransformer.html\">?<span>Documentation for ColumnTransformer</span></a><span class=\"sk-estimator-doc-link \">i<span>Not fitted</span></span></label><div class=\"sk-toggleable__content \"><pre>ColumnTransformer(transformers=[(&#x27;numerical&#x27;,\n",
       "                                 Pipeline(steps=[(&#x27;imputation&#x27;,\n",
       "                                                  SimpleImputer(copy=False,\n",
       "                                                                strategy=&#x27;median&#x27;)),\n",
       "                                                 (&#x27;standardisation&#x27;,\n",
       "                                                  MinMaxScaler())]),\n",
       "                                 [&#x27;tenure&#x27;, &#x27;MonthlyCharges&#x27;, &#x27;TotalCharges&#x27;]),\n",
       "                                (&#x27;categorical&#x27;,\n",
       "                                 Pipeline(steps=[(&#x27;imputation&#x27;,\n",
       "                                                  SimpleImputer(copy=False,\n",
       "                                                                fill_value=&#x27;unknown&#x27;,\n",
       "                                                                strategy=&#x27;constant&#x27;)),\n",
       "                                                 (&#x27;one_hot_encoding&#x27;,\n",
       "                                                  OneHotEncoder())]),\n",
       "                                 [&#x27;gender&#x27;, &#x27;SeniorCitizen&#x27;, &#x27;Partner&#x27;,\n",
       "                                  &#x27;Dependents&#x27;, &#x27;PhoneService&#x27;, &#x27;MultipleLines&#x27;,\n",
       "                                  &#x27;InternetService&#x27;, &#x27;OnlineSecurity&#x27;,\n",
       "                                  &#x27;OnlineBackup&#x27;, &#x27;DeviceProtection&#x27;,\n",
       "                                  &#x27;TechSupport&#x27;, &#x27;StreamingTV&#x27;,\n",
       "                                  &#x27;StreamingMovies&#x27;, &#x27;Contract&#x27;,\n",
       "                                  &#x27;PaperlessBilling&#x27;, &#x27;PaymentMethod&#x27;])])</pre></div> </div></div><div class=\"sk-parallel\"><div class=\"sk-parallel-item\"><div class=\"sk-item\"><div class=\"sk-label-container\"><div class=\"sk-label  sk-toggleable\"><input class=\"sk-toggleable__control sk-hidden--visually\" id=\"sk-estimator-id-2\" type=\"checkbox\" ><label for=\"sk-estimator-id-2\" class=\"sk-toggleable__label  sk-toggleable__label-arrow \">numerical</label><div class=\"sk-toggleable__content \"><pre>[&#x27;tenure&#x27;, &#x27;MonthlyCharges&#x27;, &#x27;TotalCharges&#x27;]</pre></div> </div></div><div class=\"sk-serial\"><div class=\"sk-item\"><div class=\"sk-serial\"><div class=\"sk-item\"><div class=\"sk-estimator  sk-toggleable\"><input class=\"sk-toggleable__control sk-hidden--visually\" id=\"sk-estimator-id-3\" type=\"checkbox\" ><label for=\"sk-estimator-id-3\" class=\"sk-toggleable__label  sk-toggleable__label-arrow \">&nbsp;SimpleImputer<a class=\"sk-estimator-doc-link \" rel=\"noreferrer\" target=\"_blank\" href=\"https://scikit-learn.org/1.5/modules/generated/sklearn.impute.SimpleImputer.html\">?<span>Documentation for SimpleImputer</span></a></label><div class=\"sk-toggleable__content \"><pre>SimpleImputer(copy=False, strategy=&#x27;median&#x27;)</pre></div> </div></div><div class=\"sk-item\"><div class=\"sk-estimator  sk-toggleable\"><input class=\"sk-toggleable__control sk-hidden--visually\" id=\"sk-estimator-id-4\" type=\"checkbox\" ><label for=\"sk-estimator-id-4\" class=\"sk-toggleable__label  sk-toggleable__label-arrow \">&nbsp;MinMaxScaler<a class=\"sk-estimator-doc-link \" rel=\"noreferrer\" target=\"_blank\" href=\"https://scikit-learn.org/1.5/modules/generated/sklearn.preprocessing.MinMaxScaler.html\">?<span>Documentation for MinMaxScaler</span></a></label><div class=\"sk-toggleable__content \"><pre>MinMaxScaler()</pre></div> </div></div></div></div></div></div></div><div class=\"sk-parallel-item\"><div class=\"sk-item\"><div class=\"sk-label-container\"><div class=\"sk-label  sk-toggleable\"><input class=\"sk-toggleable__control sk-hidden--visually\" id=\"sk-estimator-id-5\" type=\"checkbox\" ><label for=\"sk-estimator-id-5\" class=\"sk-toggleable__label  sk-toggleable__label-arrow \">categorical</label><div class=\"sk-toggleable__content \"><pre>[&#x27;gender&#x27;, &#x27;SeniorCitizen&#x27;, &#x27;Partner&#x27;, &#x27;Dependents&#x27;, &#x27;PhoneService&#x27;, &#x27;MultipleLines&#x27;, &#x27;InternetService&#x27;, &#x27;OnlineSecurity&#x27;, &#x27;OnlineBackup&#x27;, &#x27;DeviceProtection&#x27;, &#x27;TechSupport&#x27;, &#x27;StreamingTV&#x27;, &#x27;StreamingMovies&#x27;, &#x27;Contract&#x27;, &#x27;PaperlessBilling&#x27;, &#x27;PaymentMethod&#x27;]</pre></div> </div></div><div class=\"sk-serial\"><div class=\"sk-item\"><div class=\"sk-serial\"><div class=\"sk-item\"><div class=\"sk-estimator  sk-toggleable\"><input class=\"sk-toggleable__control sk-hidden--visually\" id=\"sk-estimator-id-6\" type=\"checkbox\" ><label for=\"sk-estimator-id-6\" class=\"sk-toggleable__label  sk-toggleable__label-arrow \">&nbsp;SimpleImputer<a class=\"sk-estimator-doc-link \" rel=\"noreferrer\" target=\"_blank\" href=\"https://scikit-learn.org/1.5/modules/generated/sklearn.impute.SimpleImputer.html\">?<span>Documentation for SimpleImputer</span></a></label><div class=\"sk-toggleable__content \"><pre>SimpleImputer(copy=False, fill_value=&#x27;unknown&#x27;, strategy=&#x27;constant&#x27;)</pre></div> </div></div><div class=\"sk-item\"><div class=\"sk-estimator  sk-toggleable\"><input class=\"sk-toggleable__control sk-hidden--visually\" id=\"sk-estimator-id-7\" type=\"checkbox\" ><label for=\"sk-estimator-id-7\" class=\"sk-toggleable__label  sk-toggleable__label-arrow \">&nbsp;OneHotEncoder<a class=\"sk-estimator-doc-link \" rel=\"noreferrer\" target=\"_blank\" href=\"https://scikit-learn.org/1.5/modules/generated/sklearn.preprocessing.OneHotEncoder.html\">?<span>Documentation for OneHotEncoder</span></a></label><div class=\"sk-toggleable__content \"><pre>OneHotEncoder()</pre></div> </div></div></div></div></div></div></div></div></div></div></div>"
      ]
     },
     "execution_count": 9,
     "metadata": {},
     "output_type": "execute_result"
    }
   ],
   "execution_count": 9
  },
  {
   "metadata": {},
   "cell_type": "markdown",
   "source": [
    "## Clean TotalCharges\n",
    "\n",
    "`TotalCharges` has white space values for new customers → Replace white spaces with 0 and cast the column to float"
   ],
   "id": "b867c67c0898924c"
  },
  {
   "metadata": {
    "ExecuteTime": {
     "end_time": "2024-05-28T09:55:39.288969Z",
     "start_time": "2024-05-28T09:55:39.282741Z"
    }
   },
   "cell_type": "code",
   "source": [
    "# Replace spaces with 0\n",
    "data['TotalCharges'] = data['TotalCharges'].replace(' ', '0')"
   ],
   "id": "dc0287580e8ca6e8",
   "outputs": [],
   "execution_count": 10
  },
  {
   "metadata": {
    "ExecuteTime": {
     "end_time": "2024-05-28T09:55:39.295903Z",
     "start_time": "2024-05-28T09:55:39.291446Z"
    }
   },
   "cell_type": "code",
   "source": [
    "# Convert the column to float\n",
    "data['TotalCharges'] = data['TotalCharges'].astype(float)"
   ],
   "id": "fd4a85205c51073e",
   "outputs": [],
   "execution_count": 11
  },
  {
   "metadata": {},
   "cell_type": "markdown",
   "source": "## Label Encoder",
   "id": "40e65803eeb53f2b"
  },
  {
   "metadata": {
    "ExecuteTime": {
     "end_time": "2024-05-28T09:55:39.305097Z",
     "start_time": "2024-05-28T09:55:39.298632Z"
    }
   },
   "cell_type": "code",
   "source": [
    "# Encode the label\n",
    "label_encoder = LabelEncoder()\n",
    "encoded_labels = label_encoder.fit_transform(np.ravel(data[label]))"
   ],
   "id": "23b6e2c2b75d24a9",
   "outputs": [],
   "execution_count": 12
  },
  {
   "metadata": {},
   "cell_type": "markdown",
   "source": "## Train & Test Split",
   "id": "a897b8e375b8decb"
  },
  {
   "metadata": {
    "ExecuteTime": {
     "end_time": "2024-05-28T09:55:39.312738Z",
     "start_time": "2024-05-28T09:55:39.307185Z"
    }
   },
   "cell_type": "code",
   "source": [
    "# Define X and y for the training set\n",
    "X = data[features]\n",
    "y = encoded_labels"
   ],
   "id": "f8af986b33686fd9",
   "outputs": [],
   "execution_count": 13
  },
  {
   "metadata": {
    "ExecuteTime": {
     "end_time": "2024-05-28T09:55:39.317691Z",
     "start_time": "2024-05-28T09:55:39.314373Z"
    }
   },
   "cell_type": "code",
   "source": [
    "# Retrieve test_size and random_state\n",
    "test_size = data_pipeline_config['train_test_split']['test_size']\n",
    "random_state = data_pipeline_config['train_test_split']['random_state']"
   ],
   "id": "65b519d6e8fc4287",
   "outputs": [],
   "execution_count": 14
  },
  {
   "metadata": {
    "ExecuteTime": {
     "end_time": "2024-05-28T09:55:39.330487Z",
     "start_time": "2024-05-28T09:55:39.320834Z"
    }
   },
   "cell_type": "code",
   "source": [
    "# Split training data into train and validation\n",
    "X_train, X_test, y_train, y_test = train_test_split(X, y, \n",
    "                                                    test_size=test_size,\n",
    "                                                    random_state=random_state)"
   ],
   "id": "5c8e7e807b79e642",
   "outputs": [],
   "execution_count": 15
  },
  {
   "metadata": {},
   "cell_type": "markdown",
   "source": "",
   "id": "6882a13354a46767"
  },
  {
   "metadata": {},
   "cell_type": "markdown",
   "source": "# Model Training",
   "id": "fac48211bdadb318"
  },
  {
   "metadata": {},
   "cell_type": "markdown",
   "source": "## Setup Training",
   "id": "7e7abfc37052842f"
  },
  {
   "metadata": {
    "ExecuteTime": {
     "end_time": "2024-05-28T09:55:39.353515Z",
     "start_time": "2024-05-28T09:55:39.332164Z"
    }
   },
   "cell_type": "code",
   "source": [
    "# Set MLflow Experiment\n",
    "mlflow_experiment_name = model_training_config['mlflow']['experiment_name']\n",
    "\n",
    "# Set MLflow Experiment\n",
    "mlflow.set_experiment(mlflow_experiment_name)"
   ],
   "id": "e1a1c675c7638541",
   "outputs": [
    {
     "data": {
      "text/plain": [
       "<Experiment: artifact_location='file:///Users/s.porreca/Projects/customer_churn_predictor/notebooks/mlruns/887185653513794297', creation_time=1716888584313, experiment_id='887185653513794297', last_update_time=1716888584313, lifecycle_stage='active', name='Version 1.0.3', tags={}>"
      ]
     },
     "execution_count": 16,
     "metadata": {},
     "output_type": "execute_result"
    }
   ],
   "execution_count": 16
  },
  {
   "metadata": {
    "ExecuteTime": {
     "end_time": "2024-05-28T09:55:39.365473Z",
     "start_time": "2024-05-28T09:55:39.355752Z"
    }
   },
   "cell_type": "code",
   "source": [
    "# Initialise trained models dictionary\n",
    "models = {}\n",
    "\n",
    "# Initialize DataFrame of models performance\n",
    "performance = pd.DataFrame(columns=model_training_config['metrics'])"
   ],
   "id": "84194bd313d27efb",
   "outputs": [],
   "execution_count": 17
  },
  {
   "metadata": {},
   "cell_type": "markdown",
   "source": "## Logistic Regression",
   "id": "816aa9e614051808"
  },
  {
   "metadata": {
    "ExecuteTime": {
     "end_time": "2024-05-28T09:55:39.408658Z",
     "start_time": "2024-05-28T09:55:39.387730Z"
    }
   },
   "cell_type": "code",
   "source": [
    "# Define the model\n",
    "model_lr = LogisticRegression()\n",
    "\n",
    "# Create a ModelTrainer\n",
    "model_trainer_lr = ModelTrainer(model_name=model_training_config['logistic_regression']['model_name'], \n",
    "                                model=model_lr, \n",
    "                                data_pipeline=data_preparation_pipeline)"
   ],
   "id": "3749d1bdb5380853",
   "outputs": [
    {
     "name": "stdout",
     "output_type": "stream",
     "text": [
      "[05/28/2024 11:55:39 - ModelTrainer] INFO - __init__ - Initialise object attributes\n"
     ]
    }
   ],
   "execution_count": 18
  },
  {
   "metadata": {
    "ExecuteTime": {
     "end_time": "2024-05-28T09:55:42.687675Z",
     "start_time": "2024-05-28T09:55:39.412569Z"
    }
   },
   "cell_type": "code",
   "source": [
    "# Start an MLflow run\n",
    "with mlflow.start_run(run_name=model_training_config['logistic_regression']['mlflow_run_name']):\n",
    "    \n",
    "    print(f'MLflow Run ID: {mlflow.active_run().info.run_id}\\n')\n",
    "\n",
    "    # Fit the model trainer\n",
    "    model_trainer_lr.bundle_and_fit_pipeline(X_train, y_train)\n",
    "    \n",
    "    # Evaluate the model trainer\n",
    "    evaluation = model_trainer_lr.evaluate_pipeline(X_test, y_test, model_training_config['metrics'])\n",
    "    \n",
    "    # Log model's evaluation metrics\n",
    "    mlflow.log_metrics(evaluation.to_dict()['Value'])\n",
    "    \n",
    "    # Log model's features\n",
    "    mlflow.log_params({'Features': features, \n",
    "                       'Label': label,\n",
    "                       'Data Transformations': data_pipeline_config['data_transformations'],\n",
    "                       'Model Initial Hyperparameters': None,\n",
    "                       'Model Optimised Hyperparameters': None})\n",
    "    \n",
    "    # Log the model\n",
    "    model_info = mlflow.sklearn.log_model(\n",
    "        sk_model=model_trainer_lr.pipeline,\n",
    "        artifact_path='model_artifacts',\n",
    "        registered_model_name=model_training_config['logistic_regression']['mlflow_run_name']\n",
    "    )"
   ],
   "id": "737c7726027ef447",
   "outputs": [
    {
     "name": "stdout",
     "output_type": "stream",
     "text": [
      "MLflow Run ID: 16c504d8a91949d8bd4a06c4cb9b0eb4\n",
      "\n",
      "[05/28/2024 11:55:39 - ModelTrainer] INFO - bundle_and_fit_pipeline - Start\n",
      "[05/28/2024 11:55:39 - ModelTrainer] INFO - bundle_and_fit_pipeline - Bundle the pipeline\n",
      "[05/28/2024 11:55:39 - ModelTrainer] INFO - bundle_and_fit_pipeline - Fit the pipeline\n",
      "[05/28/2024 11:55:39 - ModelTrainer] INFO - bundle_and_fit_pipeline - End\n",
      "[05/28/2024 11:55:39 - ModelTrainer] INFO - evaluate_pipeline - Start\n",
      "[05/28/2024 11:55:39 - ModelTrainer] INFO - evaluate_pipeline - Compute predictions\n",
      "[05/28/2024 11:55:39 - ModelTrainer] INFO - evaluate_pipeline - Evaluate pipeline\n",
      "[05/28/2024 11:55:39 - model_training_utils] INFO - compute_classification_metrics - Start\n",
      "[05/28/2024 11:55:39 - model_training_utils] INFO - compute_classification_metrics - Computed metrics\n",
      "[05/28/2024 11:55:39 - model_training_utils] INFO -            Value\n",
      "Accuracy    0.79\n",
      "Precision   0.64\n",
      "Recall      0.51\n",
      "F1 Score    0.57\n",
      "ROC AUC     0.83\n",
      "[05/28/2024 11:55:39 - model_training_utils] INFO - compute_classification_metrics - End\n",
      "[05/28/2024 11:55:39 - ModelTrainer] INFO - evaluate_pipeline - End\n"
     ]
    },
    {
     "name": "stderr",
     "output_type": "stream",
     "text": [
      "Successfully registered model 'Logistic Regression'.\n",
      "Created version '1' of model 'Logistic Regression'.\n"
     ]
    }
   ],
   "execution_count": 19
  },
  {
   "metadata": {
    "ExecuteTime": {
     "end_time": "2024-05-28T09:56:01.908897Z",
     "start_time": "2024-05-28T09:56:01.904417Z"
    }
   },
   "cell_type": "code",
   "source": [
    "# Update performance dataframe for Model Explainability\n",
    "performance.loc[model_training_config['logistic_regression']['mlflow_run_name']] = evaluation.Value.values\n",
    "\n",
    "# Update models dataframe for Model Explainability\n",
    "models[model_training_config['logistic_regression']['model_name']] = model_trainer_lr.pipeline"
   ],
   "id": "1e455cf6b9d292db",
   "outputs": [],
   "execution_count": 21
  }
 ],
 "metadata": {
  "kernelspec": {
   "display_name": "churn_predictor",
   "language": "python",
   "name": "churn_predictor"
  },
  "language_info": {
   "codemirror_mode": {
    "name": "ipython",
    "version": 2
   },
   "file_extension": ".py",
   "mimetype": "text/x-python",
   "name": "python",
   "nbconvert_exporter": "python",
   "pygments_lexer": "ipython2",
   "version": "2.7.6"
  }
 },
 "nbformat": 4,
 "nbformat_minor": 5
}
